{
 "cells": [
  {
   "cell_type": "markdown",
   "metadata": {},
   "source": [
    "# Logistic Regression Lab"
   ]
  },
  {
   "cell_type": "markdown",
   "metadata": {},
   "source": [
    "## 准备工作\n",
    "### 环境准备\n",
    "\n",
    "请确保完成以下依赖包的安装，并且通过下面代码来导入与验证。运行成功后，你会看到一个新的窗口，其展示了一张空白的figure。"
   ]
  },
  {
   "cell_type": "code",
   "execution_count": 1,
   "metadata": {},
   "outputs": [],
   "source": [
    "import numpy as np\n",
    "from typing import Tuple, List\n",
    "# display the plot in a separate window\n",
    "import matplotlib\n",
    "\n",
    "# NOTE !!!!!!!!!\n",
    "matplotlib.use('Agg')\n",
    "# NOTE since I run on the remote server (which is a headless environment that doesn't support tk iterative framework)\n",
    "# NOTE so I use agg (non-interactive backend) and save related png in the work folder \n",
    "\n",
    "import matplotlib.pyplot as plt\n",
    "\n",
    "np.random.seed(12)\n",
    "\n",
    "# create a figure and axis\n",
    "plt.ion()\n",
    "fig = plt.figure(figsize=(12, 5))\n",
    "\n",
    "# NOTE since I run on the remote server (where it is hard to render this picture in a new window), \n",
    "# NOTE so I have just savepng to achieve the same requirement\n",
    "fig.savefig(\"blank.png\")"
   ]
  },
  {
   "cell_type": "markdown",
   "metadata": {},
   "source": [
    "since I run on the remote server (which is a headless environment that doesn't support tk iterative framework) \\\n",
    "so I use agg (non-interactive backend) and save related png in the work folder "
   ]
  },
  {
   "cell_type": "markdown",
   "metadata": {},
   "source": [
    "### 数据集准备\n",
    "\n",
    "你将使用以下二维数据集来训练逻辑分类器，并观察随着训练的进行，线性分割面的变化。\n",
    "\n",
    "该数据集包含两个特征和一个标签，其中标签 $ y \\in \\{-1,1\\} $。\n",
    "\n",
    "请执行下面的代码以加载数据集并对其进行可视化。"
   ]
  },
  {
   "cell_type": "code",
   "execution_count": 2,
   "metadata": {},
   "outputs": [],
   "source": [
    "from data_generator import gen_2D_dataset\n",
    "\n",
    "x_train, y_train = gen_2D_dataset(100, 100, noise = 0)\n",
    "x_test, y_test = gen_2D_dataset(50, 50, noise = 0.7)"
   ]
  },
  {
   "cell_type": "code",
   "execution_count": 3,
   "metadata": {},
   "outputs": [],
   "source": [
    "from vis_util import visualize_2D_dataset, visualize_2D_border\n",
    "\n",
    "visualize_2D_dataset(x_train, y_train)\n",
    "visualize_2D_dataset(x_test,y_test)\n",
    "\n",
    "# NOTE since I run on the remote server (where it is hard to render this picture in a new window), so I have just savepng to achieve the same requirement\n",
    "fig.savefig(\"dataset.png\")"
   ]
  },
  {
   "cell_type": "markdown",
   "metadata": {},
   "source": [
    "## 逻辑回归 (10 pts)\n",
    "\n",
    "在这一部分，你将学习并完成逻辑回归相关代码的编写与训练。\n",
    "\n",
    "在运行这部分代码之前，请确保你已经完成了 `logistics.py` 文件的代码补全。\n",
    "\n",
    "完成后，运行以下代码，你会看到一张figure来展示$||w||$，loss和决策边界的变化。"
   ]
  },
  {
   "cell_type": "code",
   "execution_count": 4,
   "metadata": {},
   "outputs": [
    {
     "name": "stdout",
     "output_type": "stream",
     "text": [
      "iter: 0, loss: 0.6807266354549091, w_module: 1.86503565781866\n",
      "iter: 10, loss: 0.6047988783795631, w_module: 1.8481489888845297\n",
      "iter: 20, loss: 0.5660832091387538, w_module: 1.8416649857462604\n",
      "iter: 30, loss: 0.5309314279730247, w_module: 1.852628762958914\n",
      "iter: 40, loss: 0.49873990315881916, w_module: 1.8798975391623567\n",
      "iter: 50, loss: 0.4692664495478231, w_module: 1.9209134420153002\n",
      "iter: 60, loss: 0.4422816596337917, w_module: 1.973036438941622\n",
      "iter: 70, loss: 0.4175668558824793, w_module: 2.033845587213827\n",
      "iter: 80, loss: 0.39491642826729456, w_module: 2.101235926921896\n",
      "iter: 90, loss: 0.3741392267477511, w_module: 2.1734405660231073\n",
      "iter: 100, loss: 0.3550591551622385, w_module: 2.249013982747483\n",
      "iter: 110, loss: 0.33751516416979, w_module: 2.3267961857247195\n",
      "iter: 120, loss: 0.32136081353797324, w_module: 2.405870153248784\n",
      "iter: 130, loss: 0.30646354486334976, w_module: 2.4855197670708287\n",
      "iter: 140, loss: 0.29270377665622754, w_module: 2.5651918359489785\n",
      "iter: 150, loss: 0.27997390696010677, w_module: 2.6444635594027077\n",
      "iter: 160, loss: 0.26817728569910904, w_module: 2.7230155419037834\n",
      "iter: 170, loss: 0.2572272001987447, w_module: 2.8006098703921802\n",
      "iter: 180, loss: 0.2470459026432581, w_module: 2.8770725425450023\n",
      "iter: 190, loss: 0.2375636971348856, w_module: 2.9522795034752236\n",
      "iter: 200, loss: 0.22871809590403389, w_module: 3.026145610160481\n",
      "iter: 210, loss: 0.22045304847935793, w_module: 3.0986159385953096\n",
      "iter: 220, loss: 0.21271824371709563, w_module: 3.169658949317714\n",
      "iter: 230, loss: 0.20546848204891383, w_module: 3.239261119331016\n",
      "iter: 240, loss: 0.19866311376522536, w_module: 3.3074227276783668\n",
      "iter: 250, loss: 0.19226553831674803, w_module: 3.3741545473463113\n",
      "iter: 260, loss: 0.1862427592713796, w_module: 3.439475248947205\n",
      "iter: 270, loss: 0.1805649895436243, w_module: 3.5034093635923687\n",
      "iter: 280, loss: 0.17520530170196288, w_module: 3.565985685435037\n",
      "iter: 290, loss: 0.17013931847203295, w_module: 3.627236020279333\n",
      "iter: 300, loss: 0.16534493893221425, w_module: 3.6871942069037678\n",
      "iter: 310, loss: 0.16080209630385894, w_module: 3.745895353552433\n",
      "iter: 320, loss: 0.15649254364519968, w_module: 3.803375244378778\n",
      "iter: 330, loss: 0.15239966414971054, w_module: 3.859669880255189\n",
      "iter: 340, loss: 0.14850830311689944, w_module: 3.914815125888402\n",
      "iter: 350, loss: 0.1448046190012263, w_module: 3.968846441074419\n",
      "iter: 360, loss: 0.14127595125119785, w_module: 4.0217986785501445\n",
      "iter: 370, loss: 0.13791070292575738, w_module: 4.073705934533657\n",
      "iter: 380, loss: 0.13469823632016775, w_module: 4.12460144090855\n",
      "iter: 390, loss: 0.13162878005067502, w_module: 4.17451749026865\n",
      "iter: 400, loss: 0.1286933462386804, w_module: 4.223485386828482\n",
      "iter: 410, loss: 0.12588365660340467, w_module: 4.2715354176234905\n",
      "iter: 420, loss: 0.12319207641954594, w_module: 4.318696839551391\n",
      "iter: 430, loss: 0.12061155542551866, w_module: 4.364997878703581\n",
      "iter: 440, loss: 0.11813557488069022, w_module: 4.410465739151573\n",
      "iter: 450, loss: 0.11575810006855622, w_module: 4.455126618925515\n",
      "iter: 460, loss: 0.11347353762879621, w_module: 4.499005731379726\n",
      "iter: 470, loss: 0.11127669717620335, w_module: 4.542127330507203\n",
      "iter: 480, loss: 0.10916275672998427, w_module: 4.584514739059417\n",
      "iter: 490, loss: 0.10712723153411047, w_module: 4.6261903785643\n",
      "iter: 500, loss: 0.10516594589934523, w_module: 4.66717580052534\n",
      "iter: 510, loss: 0.10327500774121731, w_module: 4.707491718237644\n",
      "iter: 520, loss: 0.10145078552638004, w_module: 4.7471580387797605\n",
      "iter: 530, loss: 0.09968988737320027, w_module: 4.78619389483896\n",
      "iter: 540, loss: 0.09798914208168316, w_module: 4.824617676107175\n",
      "iter: 550, loss: 0.09634558189349454, w_module: 4.862447060048657\n",
      "iter: 560, loss: 0.09475642680536119, w_module: 4.899699041891622\n",
      "iter: 570, loss: 0.093219070278911, w_module: 4.936389963737138\n",
      "iter: 580, loss: 0.09173106620741528, w_module: 4.972535542711247\n",
      "iter: 590, loss: 0.09029011701521598, w_module: 5.008150898112314\n",
      "iter: 600, loss: 0.08889406277912253, w_module: 5.043250577526276\n",
      "iter: 610, loss: 0.08754087127298131, w_module: 5.077848581898619\n",
      "iter: 620, loss: 0.08622862884714928, w_module: 5.111958389564642\n",
      "iter: 630, loss: 0.08495553206391399, w_module: 5.145592979249359\n",
      "iter: 640, loss: 0.08371988001814948, w_module: 5.17876485205591\n",
      "iter: 650, loss: 0.08252006727980882, w_module: 5.211486052466941\n",
      "iter: 660, loss: 0.08135457740134236, w_module: 5.243768188387556\n",
      "iter: 670, loss: 0.08022197693889696, w_module: 5.275622450261375\n",
      "iter: 680, loss: 0.07912090994128188, w_module: 5.307059629293139\n",
      "iter: 690, loss: 0.07805009286525623, w_module: 5.338090134812519\n",
      "iter: 700, loss: 0.07700830987976583, w_module: 5.368724010814337\n",
      "iter: 710, loss: 0.07599440852539532, w_module: 5.398970951710509\n",
      "iter: 720, loss: 0.0750072956985513, w_module: 5.428840317328728\n",
      "iter: 730, loss: 0.07404593393279954, w_module: 5.458341147192355\n",
      "iter: 740, loss: 0.07310933795238438, w_module: 5.487482174115176\n",
      "iter: 750, loss: 0.07219657147529357, w_module: 5.5162718371437505\n",
      "iter: 760, loss: 0.07130674424532707, w_module: 5.544718293879034\n",
      "iter: 770, loss: 0.07043900927451288, w_module: 5.572829432207747\n",
      "iter: 780, loss: 0.06959256027890548, w_module: 5.600612881472889\n",
      "iter: 790, loss: 0.06876662929232959, w_module: 5.628076023111421\n",
      "iter: 800, loss: 0.0679604844440046, w_module: 5.655226000786077\n",
      "iter: 810, loss: 0.06717342788722715, w_module: 5.682069730036912\n",
      "iter: 820, loss: 0.0664047938674085, w_module: 5.708613907477059\n",
      "iter: 830, loss: 0.06565394691877607, w_module: 5.734865019555978\n",
      "iter: 840, loss: 0.06492028017996579, w_module: 5.760829350912296\n",
      "iter: 850, loss: 0.06420321381955932, w_module: 5.786512992337291\n",
      "iter: 860, loss: 0.06350219356337615, w_module: 5.811921848368939\n",
      "iter: 870, loss: 0.06281668931600996, w_module: 5.837061644535446\n",
      "iter: 880, loss: 0.062146193869720874, w_module: 5.861937934266181\n",
      "iter: 890, loss: 0.06149022169435736, w_module: 5.886556105487031\n",
      "iter: 900, loss: 0.060848307802495685, w_module: 5.910921386916215\n",
      "iter: 910, loss: 0.06022000668445109, w_module: 5.935038854075815\n",
      "iter: 920, loss: 0.059604891308240295, w_module: 5.958913435033435\n",
      "iter: 930, loss: 0.059002552179964286, w_module: 5.982549915887606\n",
      "iter: 940, loss: 0.05841259646043255, w_module: 6.005952946009884\n",
      "iter: 950, loss: 0.05783464713417729, w_module: 6.029127043055798\n",
      "iter: 960, loss: 0.05726834222729811, w_module: 6.052076597756256\n",
      "iter: 970, loss: 0.05671333407085248, w_module: 6.074805878500292\n",
      "iter: 980, loss: 0.05616928860675269, w_module: 6.0973190357195275\n",
      "iter: 990, loss: 0.05563588473335919, w_module: 6.119620106084101\n"
     ]
    }
   ],
   "source": [
    "from logistic import LogisticRegression\n",
    "\n",
    "# create a LogisticRegression object \n",
    "LR = LogisticRegression()\n",
    "\n",
    "# fit the model to the training data without regularization (reg = 0)\n",
    "LR.fit(x_train, y_train, lr=0.1, n_iter=1000,reg=0)\n",
    "\n",
    "# NOTE since I run on the remote server (where it is hard to render this picture in a new window), so I have just savepng to achieve the same requirement\n",
    "fig.savefig(\"training.png\")\n"
   ]
  },
  {
   "cell_type": "markdown",
   "metadata": {},
   "source": [
    "运行上述代码，你会发现，在不考虑正则化的情况下，$||w||$ 随着训练次数的增加会不断增大。"
   ]
  },
  {
   "cell_type": "markdown",
   "metadata": {},
   "source": [
    "训练完成后，你可以利用训练得到的分类器来进行预测。请你编写代码，计算训练集和测试集中的预测准确率。"
   ]
  },
  {
   "cell_type": "code",
   "execution_count": 5,
   "metadata": {},
   "outputs": [
    {
     "name": "stdout",
     "output_type": "stream",
     "text": [
      "Train accuracy: 1.0\n",
      "Test accuracy: 0.98\n"
     ]
    }
   ],
   "source": [
    "# Implement the code to compute the accuracy of logistic regression (LR) in the test set. Note that LR itself is already trained, if you have run the above code.\n",
    "\n",
    "# training accuracy\n",
    "\n",
    "# TODO: compute the y_pred using LR.predict() function\n",
    "train_prob, train_pred = LR.predict(x_train)\n",
    "# TODO: compute the accuracy\n",
    "# Convert predictions from {-1, 1} to {0, 1}\n",
    "# train_pred = np.where(train_pred == -1 , 0 , 1)\n",
    "train_acc = np.mean(train_pred == y_train)\n",
    "\n",
    "print(\"Train accuracy: {}\".format(train_acc))\n",
    "\n",
    "\n",
    "# TODO: test accuracy, proceed similarly as above\n",
    "test_prob , test_pred = LR.predict(x_test)\n",
    "# test_pred = np.where(test_pred == -1 , 0,1)\n",
    "test_acc = np.mean(test_pred == y_test)\n",
    "\n",
    "print(\"Test accuracy: {}\".format(test_acc))\n"
   ]
  },
  {
   "cell_type": "code",
   "execution_count": 6,
   "metadata": {},
   "outputs": [
    {
     "name": "stdout",
     "output_type": "stream",
     "text": [
      "iter: 0, loss: 0.7978659667499994, w_module: 1.1607623344265996\n",
      "iter: 10, loss: 0.5696780377333934, w_module: 0.9563497641236206\n",
      "iter: 20, loss: 0.5245528555108955, w_module: 0.9573072175237687\n",
      "iter: 30, loss: 0.4975433359708229, w_module: 1.0059314314322487\n",
      "iter: 40, loss: 0.47431122634953365, w_module: 1.0691461331819379\n",
      "iter: 50, loss: 0.4539658354404557, w_module: 1.1380951234009258\n",
      "iter: 60, loss: 0.43608023414778607, w_module: 1.2084706366040232\n",
      "iter: 70, loss: 0.42031298212691764, w_module: 1.2777582543091008\n",
      "iter: 80, loss: 0.40637822185173345, w_module: 1.3444857593923432\n",
      "iter: 90, loss: 0.39403450954012165, w_module: 1.407834889343933\n",
      "iter: 100, loss: 0.3830769703623947, w_module: 1.4673996988024198\n",
      "iter: 110, loss: 0.3733310296789409, w_module: 1.5230326427144216\n",
      "iter: 120, loss: 0.36464730464559614, w_module: 1.5747464056046734\n",
      "iter: 130, loss: 0.3568974318862177, w_module: 1.6226511395550034\n",
      "iter: 140, loss: 0.3499706582088215, w_module: 1.6669141850547546\n",
      "iter: 150, loss: 0.3437710517832161, w_module: 1.707734138218711\n",
      "iter: 160, loss: 0.33821521591520415, w_module: 1.7453241462996627\n",
      "iter: 170, loss: 0.3332304086479231, w_module: 1.779901192770318\n",
      "iter: 180, loss: 0.3287529893969248, w_module: 1.811679302914339\n",
      "iter: 190, loss: 0.32472712899550454, w_module: 1.8408653335833909\n",
      "iter: 200, loss: 0.3211037321759088, w_module: 1.867656474407232\n",
      "iter: 210, loss: 0.3178395319172223, w_module: 1.8922388845308629\n",
      "iter: 220, loss: 0.31489632352693003, w_module: 1.9147870812320347\n",
      "iter: 230, loss: 0.31224031306491035, w_module: 1.9354638228152214\n",
      "iter: 240, loss: 0.30984156003532837, w_module: 1.954420311721818\n",
      "iter: 250, loss: 0.3076734984191324, w_module: 1.9717965997367546\n",
      "iter: 260, loss: 0.305712523330139, w_module: 1.9877221149721862\n",
      "iter: 270, loss: 0.3039376330535976, w_module: 2.0023162560555097\n",
      "iter: 280, loss: 0.30233011813701915, w_module: 2.015689016603164\n",
      "iter: 290, loss: 0.3008732906853902, w_module: 2.0279416152313567\n",
      "iter: 300, loss: 0.2995522481731026, w_module: 2.0391671147759096\n",
      "iter: 310, loss: 0.29835366700384935, w_module: 2.0494510202325116\n",
      "iter: 320, loss: 0.2972656217874958, w_module: 2.058871848977822\n",
      "iter: 330, loss: 0.2962774269035654, w_module: 2.067501669632936\n",
      "iter: 340, loss: 0.2953794974164811, w_module: 2.0754066078577433\n",
      "iter: 350, loss: 0.29456322682129005, w_module: 2.0826473186774423\n",
      "iter: 360, loss: 0.2938208794471733, w_module: 2.0892794258225647\n",
      "iter: 370, loss: 0.29314549564210823, w_module: 2.095353929139173\n",
      "iter: 380, loss: 0.29253080811497506, w_module: 2.1009175814865344\n",
      "iter: 390, loss: 0.29197116802838324, w_module: 2.106013236749712\n",
      "iter: 400, loss: 0.2914614796222085, w_module: 2.1106801706996183\n",
      "iter: 410, loss: 0.29099714230880747, w_module: 2.1149543764656737\n",
      "iter: 420, loss: 0.2905739993198673, w_module: 2.1188688363694905\n",
      "iter: 430, loss: 0.29018829210494534, w_module: 2.1224537718184715\n",
      "iter: 440, loss: 0.2898366197856088, w_module: 2.1257368728877197\n",
      "iter: 450, loss: 0.2895159030589221, w_module: 2.1287435091355085\n",
      "iter: 460, loss: 0.28922335202178157, w_module: 2.1314969231076644\n",
      "iter: 470, loss: 0.2889564374549143, w_module: 2.1340184078937647\n",
      "iter: 480, loss: 0.28871286516367317, w_module: 2.1363274700057593\n",
      "iter: 490, loss: 0.2884905530232972, w_module: 2.1384419787595554\n",
      "iter: 500, loss: 0.2882876104201376, w_module: 2.140378303253361\n",
      "iter: 510, loss: 0.28810231981839235, w_module: 2.142151437954103\n",
      "iter: 520, loss: 0.2879331202149288, w_module: 2.1437751178252853\n",
      "iter: 530, loss: 0.2877785922735089, w_module: 2.1452619238565918\n",
      "iter: 540, loss: 0.28763744495472704, w_module: 2.146623379787272\n",
      "iter: 550, loss: 0.2875085034797567, w_module: 2.147870040751892\n",
      "iter: 560, loss: 0.28739069848500254, w_module: 2.1490115745181426\n",
      "iter: 570, loss: 0.2872830562413498, w_module: 2.1500568359319425\n",
      "iter: 580, loss: 0.28718468982621365, w_module: 2.1510139351347646\n",
      "iter: 590, loss: 0.28709479114929937, w_module: 2.15189030007173\n",
      "iter: 600, loss: 0.2870126237441262, w_module: 2.152692733766308\n",
      "iter: 610, loss: 0.28693751624715363, w_module: 2.1534274667981284\n",
      "iter: 620, loss: 0.28686885649494787, w_module: 2.1541002053842844\n",
      "iter: 630, loss: 0.28680608617740905, w_module: 2.154716175431306\n",
      "iter: 640, loss: 0.2867486959917538, w_module: 2.155280162894464\n",
      "iter: 650, loss: 0.2866962212478533, w_module: 2.155796550753079\n",
      "iter: 660, loss: 0.2866482378807422, w_module: 2.156269352884822\n",
      "iter: 670, loss: 0.2866043588307344, w_module: 2.1567022450984\n",
      "iter: 680, loss: 0.2865642307556843, w_module: 2.1570985935624116\n",
      "iter: 690, loss: 0.2865275310435657, w_module: 2.15746148084832\n",
      "iter: 700, loss: 0.28649396509678227, w_module: 2.157793729787291\n",
      "iter: 710, loss: 0.2864632638625035, w_module: 2.158097925323986\n",
      "iter: 720, loss: 0.2864351815858906, w_module: 2.1583764345351\n",
      "iter: 730, loss: 0.2864094937653692, w_module: 2.1586314249664103\n",
      "iter: 740, loss: 0.28638599529115893, w_module: 2.158864881429262\n",
      "iter: 750, loss: 0.2863644987501006, w_module: 2.1590786213856394\n",
      "iter: 760, loss: 0.2863448328814705, w_module: 2.1592743090401485\n",
      "iter: 770, loss: 0.28632684116994006, w_module: 2.159453468247376\n",
      "iter: 780, loss: 0.2863103805631658, w_module: 2.1596174943339896\n",
      "iter: 790, loss: 0.2862953203026829, w_module: 2.159767664926635\n",
      "iter: 800, loss: 0.2862815408578439, w_module: 2.159905149869073\n",
      "iter: 810, loss: 0.2862689329535102, w_module: 2.1600310203050035\n",
      "iter: 820, loss: 0.2862573966830684, w_module: 2.1601462569966325\n",
      "iter: 830, loss: 0.2862468406991278, w_module: 2.1602517579431533\n",
      "iter: 840, loss: 0.2862371814749644, w_module: 2.1603483453579577\n",
      "iter: 850, loss: 0.2862283426304073, w_module: 2.160436772058453\n",
      "iter: 860, loss: 0.2862202543164516, w_module: 2.16051772731784\n",
      "iter: 870, loss: 0.2862128526533921, w_module: 2.1605918422240795\n",
      "iter: 880, loss: 0.2862060792177525, w_module: 2.1606596945874776\n",
      "iter: 890, loss: 0.2861998805737091, w_module: 2.1607218134348454\n",
      "iter: 900, loss: 0.28619420784509664, w_module: 2.160778683125002\n",
      "iter: 910, loss: 0.2861890163244337, w_module: 2.1608307471174713\n",
      "iter: 920, loss: 0.2861842651157284, w_module: 2.1608784114235586\n",
      "iter: 930, loss: 0.2861799168081079, w_module: 2.1609220477665265\n",
      "iter: 940, loss: 0.286175937177585, w_module: 2.160961996475363\n",
      "iter: 950, loss: 0.28617229491450924, w_module: 2.160998569134562\n",
      "iter: 960, loss: 0.2861689613744675, w_module: 2.161032051010463\n",
      "iter: 970, loss: 0.28616591035059974, w_module: 2.161062703272969\n",
      "iter: 980, loss: 0.2861631178654706, w_module: 2.1610907650298667\n",
      "iter: 990, loss: 0.28616056198080325, w_module: 2.161116455189551\n"
     ]
    }
   ],
   "source": [
    "# create a LogisticRegression object and train it when using regularization\n",
    "LR1 = LogisticRegression()\n",
    "\n",
    "# NOTE learning rate and reg are fancy hyperparameters to adjust.\n",
    "LR1.fit(x_train, y_train, lr=0.1, n_iter=1000,reg=0.05)\n",
    "\n",
    "# NOTE since I run on the remote server (where it is hard to render this picture in a new window), so I have just savepng to achieve the same requirement\n",
    "fig.savefig(\"training_reg.png\")"
   ]
  },
  {
   "cell_type": "code",
   "execution_count": 7,
   "metadata": {},
   "outputs": [
    {
     "name": "stdout",
     "output_type": "stream",
     "text": [
      "Train accuracy: 1.0\n",
      "Test accuracy: 0.9\n"
     ]
    }
   ],
   "source": [
    "# TODO: Implement the code to compute the accuracy of logistic regression (LR) in the test set. Note that LR itself is already trained, if you have run the above code.\n",
    "\n",
    "train_prob, train_pred = LR1.predict(x_train)\n",
    "\n",
    "# Convert predictions from {-1, 1} to {0, 1}\n",
    "# train_pred = np.where(train_pred == -1 , 0 , 1)\n",
    "train_acc = np.mean(train_pred == y_train)\n",
    "\n",
    "print(\"Train accuracy: {}\".format(train_acc))\n",
    "\n",
    "\n",
    "# TODO: test accuracy, proceed similarly as above\n",
    "test_prob , test_pred = LR1.predict(x_test)\n",
    "# test_pred = np.where(test_pred == -1 , 0,1)\n",
    "test_acc = np.mean(test_pred == y_test)\n",
    "\n",
    "print(\"Test accuracy: {}\".format(test_acc))"
   ]
  },
  {
   "cell_type": "markdown",
   "metadata": {},
   "source": [
    "运行上述带有正则化的代码后，请观察 $||w||$ 的变化，并讨论正则化的实际意义。(请将答案写在下方)"
   ]
  },
  {
   "cell_type": "markdown",
   "metadata": {},
   "source": [
    " $||w||$ 的变化：不添加正则项时， $||w||$ 趋于一直增大；而添加正则化项后， $||w||$ 增大后趋于平稳 \\\n",
    " \\\n",
    "正则化的实际意义：正则化项的目的是为了防止模型过拟合训练数据(模型可能过于复杂，过度拟合训练数据中的噪声或特定模式)。正则化项通过在损失函数中引入一个惩罚项，惩罚模型的复杂性，防止模型过度拟合训练数据，使模型倾向于选择较为简单的解，提升模型的泛化能力；正则化项的第二个目的是特征选择，（如L1正则化项）可以帮助去除不重要或冗余的特征（尤其对于大规模特征的数据集有效）。\n"
   ]
  },
  {
   "cell_type": "markdown",
   "metadata": {},
   "source": [
    "Finished at 12-23 @Boyuan 2200017816"
   ]
  }
 ],
 "metadata": {
  "kernelspec": {
   "display_name": "Python 3",
   "language": "python",
   "name": "python3"
  },
  "language_info": {
   "codemirror_mode": {
    "name": "ipython",
    "version": 3
   },
   "file_extension": ".py",
   "mimetype": "text/x-python",
   "name": "python",
   "nbconvert_exporter": "python",
   "pygments_lexer": "ipython3",
   "version": "3.10.9"
  }
 },
 "nbformat": 4,
 "nbformat_minor": 2
}
